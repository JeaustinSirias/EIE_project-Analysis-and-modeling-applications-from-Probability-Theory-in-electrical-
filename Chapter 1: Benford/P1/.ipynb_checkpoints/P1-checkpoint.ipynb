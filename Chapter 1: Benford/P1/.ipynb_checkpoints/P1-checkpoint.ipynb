{
 "cells": [
  {
   "cell_type": "markdown",
   "metadata": {},
   "source": [
    "## Universidad de Costa Rica\n",
    "### Escuela de Ingeniería Eléctrica\n",
    "#### IE0499 - Proyecto Electrico\n",
    "Segundo semestre del 2020\n",
    "\n",
    "\n",
    "* Estudiante: **ROOT@UBUNTU**\n",
    "* Carné: **B12345**\n",
    "* Grupo: **1**\n",
    "\n",
    "# *La ley de Benford desde cerca*\n",
    "\n",
    "> Esta actividad reúne herramientas de programación y la teoría clásica de la probabilidad en un estudio de aplicación con la Ley de Benford como parte del fortalecimiento a los tópicos del curso Modelos Probabilísticos de Señales y Sistemas, bajo el Proyecto Electrico *Estudio y simulación de aplicaciones de la teoría de probabilidad en la ingeniería eléctrica*.\n",
    "\n",
    "---"
   ]
  },
  {
   "cell_type": "markdown",
   "metadata": {},
   "source": [
    "## Ley de Benford\n",
    "\n",
    "### Historia\n",
    "\n",
    "Echando un vistazo al año 1930 el astrónomo Simon Newcomb tuvo la curiosidad de observar que las hojas en uno de sus libros se encontraban notablemente más desgastadas cuando el primer dígito en las páginas iniciaban particularmente con el número 1. El detalle condujo a formalizar que probabilísticamente era más posible encontrarse con un 1 en el dígito inicial y sucesivamente las posibilidades se reducían para los números {2, 3, ..., 9} de hallarse como primer dígito de forma fortuita. Inicialmente el resultado del sustento fue la propuesta de que para el la probabilidad de ocurrencia de un dígito numeral i, es:\n",
    "$${\\displaystyle P(i) = log(i+1) - log(i)}$$\n",
    "\n",
    "Ya para 1930, de una manera no tan formal, el físico Frank Benford sometió la información histórica de eventos cotidianos que incluían constantes físicas, contenidos estadísticos poblacionales, áreas geográficas y otros con el objetivo de verificar que el primer dígito distinto de cero observado aleatoriamente aparece con menor frecuencia con valores más grandes bajo un comportamiento logarítmico. Posteriormente Ted Hill finalmenyte formalizó esta hipótesis de años dando paso a la *Ley de números anómalos de Benford-Newcomb.*\n",
    "### Postulado\n",
    "*Sea N la primera cifra mangitudinal no nula tal que $N = {1, 2, 3, ..., 9}$. Entonces la probabilidad de ocurrencia de N es:* $$\\displaystyle \\log{N + 1} - \\log{N} $$\n",
    "\n",
    "\n",
    "<img src=\"benford.png\"/>\n"
   ]
  },
  {
   "cell_type": "code",
   "execution_count": 1,
   "metadata": {
    "scrolled": true
   },
   "outputs": [],
   "source": [
    "import pandas as pd\n",
    "import numpy as np\n",
    "import scipy.stats as sp\n",
    "import matplotlib.pyplot as plt\n",
    "import matplotlib.gridspec as gridspec"
   ]
  },
  {
   "cell_type": "markdown",
   "metadata": {},
   "source": [
    "* **Ejercicio 1**: Cree dos funciones llamadas `union` e `interseccion`, respectivamente, que reciban como argumentos a `A` y `B` y devuelvan una lista con su unión o su intersección.\n",
    "\n",
    "**Nota**: ¿Cómo hacer funciones? `Py1`."
   ]
  },
  {
   "cell_type": "markdown",
   "metadata": {},
   "source": []
  },
  {
   "cell_type": "markdown",
   "metadata": {},
   "source": [
    "---\n",
    "## P1.2 - Aplicando la Ley de Benford\n",
    "\n",
    "### Datos disponibles\n",
    "\n",
    "\n",
    "Los datos contenidos en `archivo.csv` son..."
   ]
  },
  {
   "cell_type": "code",
   "execution_count": 1,
   "metadata": {
    "tags": []
   },
   "outputs": [],
   "source": [
    "# Datos"
   ]
  },
  {
   "cell_type": "markdown",
   "metadata": {},
   "source": [
    "* **Ejercicio 3**: En MPSS hay 70 estudiantes. ¿Cuántos grupos diferentes de cinco personas se pueden hacer para trabajo grupal durante las sesiones virtuales?"
   ]
  },
  {
   "cell_type": "code",
   "execution_count": 2,
   "metadata": {},
   "outputs": [],
   "source": [
    "# Ejercicio 3\n",
    "\n"
   ]
  },
  {
   "cell_type": "markdown",
   "metadata": {},
   "source": [
    "Recuerde convertir este archivo con su solución y todos los resultados visibles para entregarlo en formato HTML (para visualizar en web), en **File > Download as > HTML (.html)** y ponerle el nombre `[carné].html` (ejemplo: B12345.html)."
   ]
  },
  {
   "cell_type": "markdown",
   "metadata": {},
   "source": [
    "---\n",
    "\n",
    "**Universidad de Costa Rica**\n",
    "\n",
    "Facultad de Ingeniería\n",
    "\n",
    "Escuela de Ingeniería Eléctrica\n",
    "\n",
    "---"
   ]
  },
  {
   "cell_type": "code",
   "execution_count": null,
   "metadata": {},
   "outputs": [],
   "source": []
  }
 ],
 "metadata": {
  "kernelspec": {
   "display_name": "Python 3",
   "language": "python",
   "name": "python3"
  },
  "language_info": {
   "codemirror_mode": {
    "name": "ipython",
    "version": 3
   },
   "file_extension": ".py",
   "mimetype": "text/x-python",
   "name": "python",
   "nbconvert_exporter": "python",
   "pygments_lexer": "ipython3",
   "version": "3.6.9"
  }
 },
 "nbformat": 4,
 "nbformat_minor": 2
}
