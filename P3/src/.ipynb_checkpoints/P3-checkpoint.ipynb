{
 "cells": [
  {
   "cell_type": "markdown",
   "metadata": {},
   "source": [
    "---\n",
    "\n",
    "## Universidad de Costa Rica\n",
    "### Escuela de Ingeniería Eléctrica\n",
    "#### IE0405 - Modelos Probabilísticos de Señales y Sistemas\n",
    "\n",
    "Segundo semestre del 2020\n",
    "\n",
    "---\n",
    "\n",
    "* Estudiante: **Nombre completo**\n",
    "* Carné: **B12345**\n",
    "* Grupo: **1**\n",
    "\n",
    "\n",
    "# `P3` - *La demanda energética de electricidad en Costa Rica, parte II*\n",
    "\n",
    "> Esta actividad extiende el análisis y modelado realizados anteriormente sobre la demanda eléctrica del país, por hora, a partir de una base de datos del Instituto Costarricense de Electricidad del 2019. El énfasis ahora es encontrar las relaciones que existen entre los modelos de cada hora.\n",
    "\n",
    "---\n",
    "* Elaboración de nota teórica y demostración: **Jeaustin Sirias Chacón**, como parte de IE0499 - Proyecto Eléctrico: *Estudio y simulación de aplicaciones de la teoría de probabilidad en la ingeniería eléctrica*.\n",
    "* Revisión: **Fabián Abarca Calderón**\n"
   ]
  },
  {
   "cell_type": "markdown",
   "metadata": {},
   "source": [
    "---\n",
    "## 1. - Introducción\n",
    "\n",
    "Ampliando el análisis de los datos elaborado en el Proyecto 2 (`P2`), lo cierto es los sistemas complejos de la realidad, no suelen contener solo una variable aleatoria, sino, múltiples y es por dicha razón que las variables aleatorias múltiples también pueden ser discretas o continuas en función de su espacio muestral $S$; así, ahora vale la pena hacer referencia a un **vector aleatorio** que contiene una familia de las variables aleatorias en cuestión y es usual expresar este hecho como:\n",
    "\n",
    "$$\n",
    "\\vec{X} = (X_1, X_2, X_3, \\ldots, X_n)\n",
    "$$\n",
    "\n",
    "La novedad de ahora hablar de un conjunto multidimensional $\\vec{X}$ tiene ciertas implicaciones. Quizá lo más relevante puede hallarse desde la óptica del espacio muestral del vector aleatorio, pues se sabe que ahora ya no alberga, como tradicionalmente ocurría, solo una variable aleatoria. Este hecho en específico diversifica en gran medida **el sentido espacial**; por ejemplo, supóngase que hay cierto vector aleatorio $\\vec{V} = (X, Y)$ cuya composición espacial consta de dos dimensiones (puesto que, en efecto, hay dos variables aleatorias en $\\vec{V}$). Hacer referecia ahora a un \"plano\" cobra sentido, en especial para evidenciar cualquier par ordenado $(x_i, y_j)$, que representa un punto aleatorio en el plano $XY$. \n",
    "\n",
    "\n",
    "<img align='center' src='https://i.imgur.com/NEkKuHl.jpg' width =\"700\"/>\n",
    "\n",
    "Ahora bien, ¿qué ocurre cuando $\\vec{V}$ es $n$-dimensional?, ¿podría ser tan sencillo de manipular cinco o siete dimensiones, ocurre con dos?, ¿se puede?. En este proyecto programado se abordará el eje temático de las variables aleatorias multidimensionales desde un enfoque práctico e interactivo para conocer las relaciones que existen entre los múltiples intervalos de demanda energética como un sistema.\n"
   ]
  },
  {
   "cell_type": "markdown",
   "metadata": {},
   "source": [
    "---\n",
    "## 2. - La librería `fitter` para la determinación de modelos probabilísticos\n",
    "\n",
    "Hasta el momento en el curso se han encontrado los parámetros de mejor ajuste entre un conjunto de datos (una \"muestra\") y un modelo probabilístico particular, quizá elegido *arbitrariamente* o por un desarrollado sentido de la intuición, del tipo: \"hmm, esa distribución me parece exponencial\". Sin embargo, está claro que algunos modelos hacen una mejor descripción de los datos que otros, y no siempre se puede encontrar \"a puro ojo\". En el proyecto anterior se construyó una funcion programada específicamente para hallar el modelo de mejor ajuste para una población específica de muestras, para evidenciar una aplicación práctica de las variables aleatorias. Unas pocas distribuciones eran sometidas a prueba (distribución normal, gamma, beta, Burr tipo XII, etc) como candidatas al mejor modelo de ajuste; no obstante, el módulo `stats` de la biblioteca SciPy ofrece soporte hasta para 80 distribuciones distintas, y sería algo tedioso (y hasta brusco en términos del tiempo de ejecución de Python). Para ello la biblioteca [fitter](https://fitter.readthedocs.io/en/latest/) será introducida en esta ocasión. Tal cual su nombre lo indica (ajustador, en español), esta herramienta provee módulos dedicados a probar todas las distribuciones de `stats` (si así se le indica), concluyendo, definitivamente \"la mejor\" distribución y sus parámetros de ajuste del mejor modelo. El interés de implementar el uso de `fitter` es aumentar el margen de \"confianza\" respecto a lo que se considera \"el mejor modelo\" para una población de muestras. Los métodos a emplear del módulo `Fitter` (*Fitter* y *fitter* hacen referencia a términos distintos) son los siguientes:\n",
    "\n",
    "```python\n",
    "from fitter import Fitter # Invocación de la clase Fitter\n",
    "\n",
    "f = Fitter()              # Para instanciar la clase\n",
    "f.fit()                   # Para evaluar las 80 distribuciones\n",
    "f.get_best()              # Para hallar el mejor modelo \n",
    "```"
   ]
  },
  {
   "cell_type": "markdown",
   "metadata": {},
   "source": [
    "---\n",
    "## 3. - Funciones útiles y otras novedades\n",
    "\n",
    "Para esta ocasión es útil (y necesario) implementar ciertas funciones que simplifiquen las asignaciones a resolver, no obstante, se observará que algunas de ellas \"heredan\" características e instrucciones que contenían las funciones en el anterior proyecto. Se contará con las siguientes funciones a saber:\n",
    "\n",
    "* `extraer_datos(archivo_json, hora)`: Importa la base de datos completa y devuelve los datos de potencia a la hora indicada en un *array* de valores. Esta función es idéntica a la del proyecto anterior.\n",
    "\n",
    "* `distribucion_conjunta(X, Y, bins)`: Pide por parámetros dos variables aleatorias $X$, $Y$ y el número de divisones (bins) correspondientes a dos intervalos horarios. Visualiza un histograma bivariado y retorna los datos de la función bivariada discreta en dos formatos distintios.\n",
    "\n",
    "* `evaluar_modelos(datos)`: Encuentra la distribución de mejor ajuste y retorna los parámetros del modelo correspondiente para una población de muestras.\n",
    "\n",
    "* `densidad_marginal()`: \n",
    "\n",
    "* `energia_diaria(archivo_json)`: Importa la base de datos completa en formato **JSON** y calcula la energía diaria usando [la Regla del Trapecio](https://es.wikipedia.org/wiki/Regla_del_trapecio) y retorna un vector con muestras diarias de energía.\n",
    "\n",
    "* `parametros_energia(vector_energia)`: Recibe por parámetro un vector de energía diaria y retorna la media y la desviación estándar basadas en las muestras ingresadas.\n",
    "\n",
    "Las llamadas a bibliotecas de Python, de interés para este proyecto programado, son:\n",
    "\n",
    "```python\n",
    "import numpy as np               # Para manipular datos de interés y calcular resultados\n",
    "from fitter import Fitter        # Para evaluar el modelo de mejor ajuste en una población\n",
    "import pandas as pd              # Para manipular y leer la base de datos de demanda en formato JSON\n",
    "from scipy import stats          # La música de la fiesta\n",
    "import matplotlib.pyplot as plt  # Para visualizar resultados relevantes\n",
    "from datetime import datetime    # Manipulación de formatos temporales\n",
    "```\n",
    "\n",
    "\n",
    "### 3.1 - Acondicionamiento de la población de muestras\n"
   ]
  },
  {
   "cell_type": "code",
   "execution_count": 121,
   "metadata": {},
   "outputs": [],
   "source": [
    "import pandas as pd\n",
    "import numpy as np\n",
    "from datetime import datetime\n",
    "\n",
    "def extraer_datos(archivo_json, hora):\n",
    "    '''Importa la base de datos completa y devuelve los\n",
    "    datos de potencia a la hora indicada en un\n",
    "    array de valores.\n",
    "    '''\n",
    "    \n",
    "    # Cargar el \"DataFrame\"\n",
    "    df = pd.read_json(archivo_json) \n",
    "    \n",
    "    # Convertir en un array de NumPy\n",
    "    datos = np.array(df)                \n",
    "\n",
    "    # Crear vector con los valores demanda en una hora\n",
    "    demanda = []\n",
    "\n",
    "    # Extraer la demanda en la hora seleccionada\n",
    "    for i in range(len(datos)):\n",
    "        instante = datetime.fromisoformat(datos[i][0]['fechaHora'])\n",
    "        if instante.hour == hora:\n",
    "            demanda.append(datos[i][0]['MW'])\n",
    "\n",
    "    return demanda"
   ]
  },
  {
   "cell_type": "markdown",
   "metadata": {},
   "source": [
    "### 3.2 - Parámetros bivariados y modelos de mejor ajuste"
   ]
  },
  {
   "cell_type": "code",
   "execution_count": 122,
   "metadata": {},
   "outputs": [],
   "source": [
    "import numpy as np\n",
    "import matplotlib.pyplot as plt\n",
    "from mpl_toolkits.mplot3d import Axes3D\n",
    "\n",
    "def distribucion_conjunta(X, Y, bins):\n",
    "    '''\n",
    "    Pide por parámetros dos variables aleatorias\n",
    "    X y Y, así como el número de 'bins' o divisiones\n",
    "    a emplear para construir el histograma bivariado.\n",
    "    Retorna\n",
    "    '''\n",
    "    np.seterr(all='ignore') # ignorar advertencias\n",
    "    \n",
    "    # Se inicializa la figura interactiva 3D\n",
    "    fig = plt.figure()\n",
    "    ax = fig.add_subplot(111, projection='3d')\n",
    "\n",
    "    # Se obtiene el plano de probabilidades para graficar el hist3D\n",
    "    hist, xbins, ybins = np.histogram2d(X, Y, bins=bins, normed=False)\n",
    "    hist = hist / sum(sum(hist))\n",
    "    xbins = (xbins + np.roll(xbins, -1))[:-1] / 2.0 \n",
    "    ybins = (ybins + np.roll(ybins, -1))[:-1] / 2.0 \n",
    "    \n",
    "    #Formatos de retorno para la funcion de densidad bivariada discreta\n",
    "    xyp = [[xbins[i], ybins[j], hist[i][j]] for i in range(bins) for j in range(bins)]\n",
    "    xy = hist \n",
    "\n",
    "    # Se construyen los arreglos para el ancho de Bins * Bins barras\n",
    "    xpos, ypos = np.meshgrid(xbins, ybins, indexing=\"ij\")\n",
    "    xpos = xpos.ravel()\n",
    "    ypos = ypos.ravel()\n",
    "    zpos = 0\n",
    "\n",
    "    # Se dimensiona el ancho visual de las barras (como un sólido).\n",
    "    dx = dy = 30 * np.ones_like(zpos)\n",
    "    dz = hist.ravel() \n",
    "\n",
    "    # Se visualiza el histograma 3D\n",
    "    ax.bar3d(xpos, ypos, zpos, dx, dy, dz, zsort='average')\n",
    "    ax.set_xlabel('La hora 1 (X)')\n",
    "    ax.set_ylabel('La hora 2 (Y)')\n",
    "    ax.set_zlabel('Probabilidad')\n",
    "    plt.show()\n",
    "\n",
    "    return xyp, xy, xbins, ybins\n",
    "    "
   ]
  },
  {
   "cell_type": "markdown",
   "metadata": {},
   "source": [
    "Obsérvese que la función anterior retorna los datos de la función bivariada sobre la base de las variables aleatorias $X$ y $Y$ en dos arreglos distintos `xyp` y `xy`con el objetivo de simplificar la manipulación de datos en las actividades por realizar, y lucen de la siguiente forma, respectivamente:\n",
    "\n",
    "\n",
    "**El formato xyp:**\n",
    "```python\n",
    "    x   y      P\n",
    "0  x1  y1  0.001\n",
    "1  x1  y2  0.020\n",
    "2  x1  y3  0.092\n",
    "3  x2  y1  0.093\n",
    "4  x2  y2  0.083\n",
    "5  x2  y3  0.061\n",
    ".   .   .    .\n",
    ".   .   .    .\n",
    ".   .   .    .\n",
    "n   xn  yn   Pn\n",
    "```\n",
    "\n",
    "**El formato xy:**\n",
    "```python\n",
    "      y1      y2      y3      y4     y5     y6    .   .   yn\n",
    "x1  0.030  0.0400  0.0400  0.0400  0.040  0.040   .   .    .\n",
    "x2  0.090  0.0056  0.0400  0.0860  0.054  0.004   .   .    .\n",
    "x3  0.005  0.0450  0.0690  0.0010  0.001  0.060   .   .    .\n",
    "x4  0.060  0.0230  0.0025  0.0014  0.084  0.050   .   .    .\n",
    ".     .       .       .       .       .     .\n",
    ".     .       .       .       .       .     .     .   .    .\n",
    ".     .       .       .       .       .     .\n",
    "xn    .       .       .       .       .     .     .   .    .\n",
    "``` \n",
    "En ambos casos, independientemente, se puede interpretar los elementos $x_n$ y $y_n$ (las variables `xbins` y `ybins`) como las divisiones por dimensión (bins). Para este caso ambas dimensiones tendrán siempre la misma cantidad de \"bins\" por la forma en que ha programado la función `distribucion_conjunta`.\n",
    "\n"
   ]
  },
  {
   "cell_type": "code",
   "execution_count": 123,
   "metadata": {},
   "outputs": [],
   "source": [
    "from fitter import Fitter\n",
    "\n",
    "def evaluar_modelos(datos):\n",
    "    '''\n",
    "    Evalúa las 80 distribuciones del módulo stats\n",
    "    y obtiene el el modelo de mejor ajuste para\n",
    "    la demanda anual de una hora específica. Retorna\n",
    "    el nombre de la mejor distribución y una tupla con\n",
    "    los parámetros del modelo.\n",
    "    '''\n",
    "    np.seterr(all='ignore') # ignorar advertencias\n",
    "    \n",
    "    # Hallar el mejor ajuste con Fitter\n",
    "    f = Fitter(datos, timeout=120)\n",
    "    f.fit()\n",
    "    ajuste = f.get_best()\n",
    "    \n",
    "    for i in ajuste.keys():\n",
    "        dist, params = i, ajuste[i]\n",
    "\n",
    "    print('------------\\nDistribución\\n------------')\n",
    "    print(dist, '\\n')\n",
    "    print('----------\\nParámetros\\n----------')\n",
    "    print(params)\n",
    "\n",
    "    return dist, params\n"
   ]
  },
  {
   "cell_type": "markdown",
   "metadata": {},
   "source": [
    "### 3.3 - Cálculo y contraste de la densidad marginal con un modelo de mejor ajuste"
   ]
  },
  {
   "cell_type": "code",
   "execution_count": 124,
   "metadata": {},
   "outputs": [],
   "source": [
    "import numpy as np\n",
    "from scipy import stats\n",
    "import matplotlib.pyplot as plt\n",
    "\n",
    "def densidad_marginal(xy, bins, dist, params, eje):\n",
    "    '''\n",
    "    Se elije eje='x' o eje='y' segun sea el caso para la \n",
    "    densidad marginal en Y o en X. El parámetro 'xy' es el\n",
    "    formato de datos bivariable, 'bins' es el vector de valores\n",
    "    de potencia xbins o ybins. Los parámetros 'dist' y 'params'\n",
    "    corresponden al modelo de mejor ajuste retornado por el fitter.\n",
    "    '''\n",
    "    np.seterr(all='ignore') # ignorar advertencias\n",
    "    \n",
    "    # Hallar la densidad marginal de x o y, según se indique en 'eje'\n",
    "    if eje == 'x':\n",
    "\n",
    "        filas = len(xy)\n",
    "        marginal = [sum(xy[i]) for i in range(filas)]\n",
    "\n",
    "    elif eje == 'y':\n",
    "\n",
    "        xy = xy.transpose()\n",
    "        filas = len(xy)\n",
    "        marginal = [sum(xy[i]) for i in range(filas)]\n",
    "\n",
    "    # Visualizar modelo de mejor ajuste\n",
    "    distro = getattr(stats, dist) \n",
    "    d = np.arange(min(bins)*0.96, max(bins)*1.04, 1)\n",
    "    pdf_plot = distro.pdf(d, *params)\n",
    "    plt.plot(d, pdf_plot*22, lw=3.5, color='r')\n",
    "    \n",
    "    # Visualizar función de densidad marginal\n",
    "    plt.bar(bins, marginal, width=12)\n",
    "    plt.title('Contraste: densidad marginal vs. modelo de mejor ajuste')\n",
    "    plt.xlabel('Potencia [MW]')\n",
    "    plt.ylabel('Densidad Probabilística')\n",
    "    plt.show()\n",
    "    \n",
    "    return marginal"
   ]
  },
  {
   "cell_type": "markdown",
   "metadata": {},
   "source": [
    "### 3.4 - Calculando la energía diaria y parámetros relevantes"
   ]
  },
  {
   "cell_type": "code",
   "execution_count": 125,
   "metadata": {},
   "outputs": [],
   "source": [
    "import pandas as pd\n",
    "import numpy as np\n",
    "from datetime import datetime\n",
    "\n",
    "def energia_diaria(archivo_json):\n",
    "    '''\n",
    "    Importa la base de datos completa y devuelve un\n",
    "    vector con la energía diaria, en MWh.\n",
    "    '''\n",
    "    \n",
    "    # Cargar el \"DataFrame\"\n",
    "    df = pd.read_json(archivo_json) \n",
    "\n",
    "    # Convertir en un array de NumPy\n",
    "    datos = np.array(df)  \n",
    "\n",
    "    # Crear vector con todos los valores horarios de demanda\n",
    "    demanda = []\n",
    "\n",
    "    # Extraer la magnitud de la demanda para todas las horas\n",
    "    for hora in range(len(datos)):\n",
    "        instante = datetime.fromisoformat(datos[hora][0]['fechaHora'])\n",
    "        demanda.append(datos[hora][0]['MW'])\n",
    "\n",
    "    # Separar las magnitudes en grupos de 24 (24 h)\n",
    "    demanda = np.split(np.array(demanda), len(demanda) / 24)\n",
    "\n",
    "    #Crear vector para almacenar la enegia a partir de la demanda\n",
    "    energia = []\n",
    "\n",
    "    #calcular la energia diaria por la Regla del Trapecio\n",
    "    for dia in range(len(demanda)):\n",
    "\n",
    "        E = round(np.trapz(demanda[dia]), 2)\n",
    "        energia.append(E)\n",
    "\n",
    "    return energia"
   ]
  },
  {
   "cell_type": "code",
   "execution_count": 126,
   "metadata": {},
   "outputs": [],
   "source": [
    "import numpy as np\n",
    "\n",
    "def parametros_energia(vector_energia):\n",
    "    '''\n",
    "    Calcula los parámetros media y stDev\n",
    "    en del vector de energía, y los retorna\n",
    "    '''\n",
    "\n",
    "    media = np.median(vector_energia)\n",
    "    desviacion = np.std(vector_energia)\n",
    "\n",
    "    return media, desviacion"
   ]
  },
  {
   "cell_type": "markdown",
   "metadata": {},
   "source": [
    "### 3.5 - Probando las funciones implementadas\n",
    "\n",
    "Ahora bien, se puede elaborar una breve demostración práctica basada en las funciones anteriormente implementadas, haciendo sus respectivas llamadas:"
   ]
  },
  {
   "cell_type": "code",
   "execution_count": 127,
   "metadata": {},
   "outputs": [
    {
     "name": "stderr",
     "output_type": "stream",
     "text": [
      "/home/jussc_/.local/lib/python3.7/site-packages/scipy/stats/_continuous_distns.py:4523: IntegrationWarning: The integral is probably divergent, or slowly convergent.\n",
      "  intg = integrate.quad(f, -xi, np.pi/2, **intg_kwargs)[0]\n"
     ]
    },
    {
     "data": {
      "image/png": "[encoded data removed]",
      "text/plain": [
       "<Figure size 432x288 with 1 Axes>"
      ]
     },
     "metadata": {
      "needs_background": "light"
     },
     "output_type": "display_data"
    }
   ],
   "source": [
    "# Se eligen las dos horas que desean estudiarse\n",
    "hora_1 = extraer_datos('demanda_2019.json', 3) \n",
    "hora_2 = extraer_datos('demanda_2019.json', 11) \n",
    "\n",
    "# Se ejecuta el análisis bivariado\n",
    "xyp, xy, xbins, ybins = distribucion_conjunta(hora_1, hora_2, bins = 10)"
   ]
  },
  {
   "cell_type": "code",
   "execution_count": 128,
   "metadata": {},
   "outputs": [
    {
     "data": {
      "text/html": [
       "\n",
       "            <div style=\"float: left; border: 1px solid black; width:500px\">\n",
       "              <div id=\"1e4f0ecd-24c3-459b-8aae-fd284f3bb136\" style=\"background-color:blue; width:0%\">&nbsp;</div>\n",
       "            </div>\n",
       "            <label id=\"50aec4a9-4fa5-48dc-b748-b8f1b2c59ada\" style=\"padding-left: 10px;\" text = \"\"/>\n",
       "            "
      ],
      "text/plain": [
       "<IPython.core.display.HTML object>"
      ]
     },
     "metadata": {},
     "output_type": "display_data"
    },
    {
     "name": "stderr",
     "output_type": "stream",
     "text": [
      "/home/jussc_/.local/lib/python3.7/site-packages/scipy/stats/_continuous_distns.py:4523: IntegrationWarning: The integral is probably divergent, or slowly convergent.\n",
      "  intg = integrate.quad(f, -xi, np.pi/2, **intg_kwargs)[0]\n",
      "WARNING:root:SKIPPED kstwo distribution (taking more than 120 seconds)\n",
      "WARNING:root:SKIPPED rv_continuous distribution (taking more than 120 seconds)\n",
      "WARNING:root:SKIPPED rv_histogram distribution (taking more than 120 seconds)\n",
      "WARNING:root:SKIPPED kappa4 distribution (taking more than 120 seconds)\n",
      "WARNING:root:SKIPPED levy_stable distribution (taking more than 120 seconds)\n",
      "WARNING:root:SKIPPED recipinvgauss distribution (taking more than 120 seconds)\n",
      "WARNING:root:SKIPPED vonmises distribution (taking more than 120 seconds)\n"
     ]
    },
    {
     "name": "stdout",
     "output_type": "stream",
     "text": [
      "------------\n",
      "Distribución\n",
      "------------\n",
      "genlogistic \n",
      "\n",
      "----------\n",
      "Parámetros\n",
      "----------\n",
      "(0.6318766353534495, 952.2292025622228, 19.795927564550382)\n"
     ]
    }
   ],
   "source": [
    "# Se llama obtiene los parámetros de mejor ajuste para cada hora\n",
    "\n",
    "dist, params = evaluar_modelos(hora_1)\n",
    "#_dist, _params = evaluar_modelos(hora_2)"
   ]
  },
  {
   "cell_type": "code",
   "execution_count": 129,
   "metadata": {},
   "outputs": [
    {
     "name": "stderr",
     "output_type": "stream",
     "text": [
      "/home/jussc_/.local/lib/python3.7/site-packages/scipy/stats/_continuous_distns.py:4523: IntegrationWarning: The integral is probably divergent, or slowly convergent.\n",
      "  intg = integrate.quad(f, -xi, np.pi/2, **intg_kwargs)[0]\n"
     ]
    },
    {
     "data": {
      "image/png": "[encoded data removed]",
      "text/plain": [
       "<Figure size 432x288 with 1 Axes>"
      ]
     },
     "metadata": {
      "needs_background": "light"
     },
     "output_type": "display_data"
    },
    {
     "data": {
      "text/plain": [
       "[0.01568627450980392,\n",
       " 0.01568627450980392,\n",
       " 0.054901960784313725,\n",
       " 0.0784313725490196,\n",
       " 0.12156862745098039,\n",
       " 0.2235294117647059,\n",
       " 0.23137254901960785,\n",
       " 0.14901960784313723,\n",
       " 0.07058823529411765,\n",
       " 0.0392156862745098]"
      ]
     },
     "execution_count": 129,
     "metadata": {},
     "output_type": "execute_result"
    }
   ],
   "source": [
    "# Se contrasta la densidad marginal para cada hora, según su eje\n",
    "densidad_marginal(xy, xbins, dist, params, eje='x')"
   ]
  },
  {
   "cell_type": "markdown",
   "metadata": {},
   "source": [
    "---\n",
    "## 4. - Asignaciones del proyecto\n",
    "\n",
    "Aquí la introducción"
   ]
  },
  {
   "cell_type": "code",
   "execution_count": 130,
   "metadata": {},
   "outputs": [],
   "source": [
    "import random\n",
    "\n",
    "def horas_asignadas(digitos):\n",
    "    '''Elige una hora A en periodo punta\n",
    "    y una hora B de los otros periodos,\n",
    "    con los dígitos del carné como \"seed\"\n",
    "    '''\n",
    "    random.seed(digitos)\n",
    "    punta = [11, 12, 18, 19, 20]\n",
    "    valle = [7, 8, 9, 10, 13, 14, 15, 16, 17]\n",
    "    nocturno = [21, 22, 23, 0, 1, 2, 3, 4, 5, 6]\n",
    "    otro = valle + nocturno\n",
    "    HA = punta[random.randrange(0, len(punta))]\n",
    "    HB = otro[random.randrange(0, len(otro))]\n",
    "    horas = 'Hora A = {}, hora B = {}'.format(HA, HB)\n",
    "    return horas"
   ]
  },
  {
   "cell_type": "markdown",
   "metadata": {},
   "source": [
    "### 4.1. - Función distribución múltiple bivariada\n",
    "\n",
    "1. Analizar datos bivariados: ($P_X$, $P_15$) (numpy.histogram2d, density=True)\n",
    "1. Visualizar estos datos (matplotlib)\n",
    "1. Funciones de densidad marginales (fitter)\n",
    "1. (X) Prueba de independencia, graficar histograma (\"b\") versus modelo\n",
    "1. Valores esperados E(X) y E(Y) de los datos bivariados (\"b\" y \"c\")\n"
   ]
  },
  {
   "cell_type": "code",
   "execution_count": 131,
   "metadata": {},
   "outputs": [],
   "source": [
    "# 4.1. - Comparación de consumo de potencia"
   ]
  },
  {
   "cell_type": "markdown",
   "metadata": {},
   "source": [
    "### 4.2. - Independencia estadística de las distribuciones de probabilidad\n",
    "\n",
    "1. Correlación entre X y Y, E(XY) = R_XY\n",
    "1. (Sí/No y por qué) Prueba de correlación E(XY) = E(X)E(Y) con una tolerancia del 5%\n",
    "1. (Cuantificar) Determinación de la covarianza y el índice de correlación de Pearson\n",
    "1. (Análisis) ¿Qué implica este valor de covarianza?"
   ]
  },
  {
   "cell_type": "code",
   "execution_count": 132,
   "metadata": {},
   "outputs": [],
   "source": [
    "# 4.2. - Independencia estadística de las distribuciones de probabilidad"
   ]
  },
  {
   "cell_type": "markdown",
   "metadata": {},
   "source": [
    "### 4.3. - Correlación entre el consumo a distintas horas del día\n",
    "\n",
    "1. Teorema del límite central en la suma\n",
    "1. Análisis de consumo de energía semanal\n",
    "\n",
    "\n",
    "$S_E = X_L + X_K + X_M + X_J + X_V + X_S + X_D \\sim \\mathcal{N}$\n",
    "\n",
    "$$\n",
    "Z = \\frac{S_N - \\mu_{S_N}}{\\sigma_{S_N}} = \\frac{S_N - N\\mu}{\\sigma \\sqrt{N}}\n",
    "$$"
   ]
  },
  {
   "cell_type": "code",
   "execution_count": 133,
   "metadata": {},
   "outputs": [],
   "source": [
    "# 4.4. - Obtención de los momentos de los modelos"
   ]
  },
  {
   "cell_type": "markdown",
   "metadata": {},
   "source": [
    "---\n",
    "\n",
    "### Universidad de Costa Rica\n",
    "#### Facultad de Ingeniería\n",
    "##### Escuela de Ingeniería Eléctrica\n",
    "\n",
    "---"
   ]
  }
 ],
 "metadata": {
  "kernelspec": {
   "display_name": "Python 3",
   "language": "python",
   "name": "python3"
  },
  "language_info": {
   "codemirror_mode": {
    "name": "ipython",
    "version": 3
   },
   "file_extension": ".py",
   "mimetype": "text/x-python",
   "name": "python",
   "nbconvert_exporter": "python",
   "pygments_lexer": "ipython3",
   "version": "3.7.9"
  }
 },
 "nbformat": 4,
 "nbformat_minor": 2
}
